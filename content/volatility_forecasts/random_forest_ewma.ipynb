{
 "cells": [
  {
   "cell_type": "code",
   "execution_count": 1,
   "metadata": {},
   "outputs": [],
   "source": [
    "import numpy as np\n",
    "import pandas as pd\n",
    "from functools import partial\n",
    "from scipy.optimize import minimize\n",
    "from scipy.special import expit\n",
    "from arch import arch_model\n",
    "from matplotlib import pyplot as plt\n",
    "import yfinance as yf"
   ]
  },
  {
   "cell_type": "code",
   "execution_count": 2,
   "metadata": {},
   "outputs": [],
   "source": [
    "def simulate_contaminated_garch(n, mu, omega, alpha, beta, eta):\n",
    "    returns = np.zeros(n)\n",
    "    returns[0] = 0\n",
    "\n",
    "    sigma2s = np.zeros(n)\n",
    "    sigma2s[0] = omega\n",
    "\n",
    "    for t in range(1, n):\n",
    "        sigma2s[t] = omega + alpha * returns[t-1]**2 + beta * sigma2s[t-1]\n",
    "        returns[t] = np.random.normal(mu, np.sqrt(sigma2s[t])) + float(eta * (np.random.uniform(0, 1) < 0.005))\n",
    "\n",
    "    return returns, sigma2s"
   ]
  },
  {
   "cell_type": "code",
   "execution_count": 3,
   "metadata": {},
   "outputs": [
    {
     "name": "stderr",
     "output_type": "stream",
     "text": [
      "[*********************100%%**********************]  1 of 1 completed\n"
     ]
    }
   ],
   "source": [
    "sp500_returns = yf.download(\"SPY\", start=\"2000-01-01\", end=\"2023-12-31\")\n",
    "sp500_returns = np.log(sp500_returns[\"Adj Close\"]).diff()"
   ]
  },
  {
   "cell_type": "code",
   "execution_count": 77,
   "metadata": {},
   "outputs": [],
   "source": [
    "def es(params, returns, is_index=500):\n",
    "    assert len(params) == 1\n",
    "    n = len(returns)\n",
    "    sigma2s = np.zeros(n)\n",
    "    sigma2s[:is_index] = np.mean(returns[:is_index]**2)\n",
    "    alphas = expit(params[0]) * np.ones(n)\n",
    "    for t in range(is_index, n):\n",
    "        sigma2s[t] = (1 - alphas[t-1]) * sigma2s[t-1] + alphas[t-1] * returns[t-1]**2\n",
    "    \n",
    "    return sigma2s, alphas\n",
    "\n",
    "def stes_ae(params, returns, is_index=500):\n",
    "    assert len(params) == 2\n",
    "    n = len(returns)\n",
    "    sigma2s = np.zeros(n)\n",
    "    sigma2s[:is_index] = np.mean(returns[:is_index]**2)\n",
    "    alphas = np.zeros(n)\n",
    "    for t in range(is_index, n):\n",
    "        features = np.array([1, abs(returns[t-1])])\n",
    "        alpha = expit(params @ features)\n",
    "        alphas[t-1] = alpha\n",
    "        sigma2s[t] = (1 - alphas[t-1]) * sigma2s[t-1] + alphas[t-1] * returns[t-1]**2\n",
    "\n",
    "    return sigma2s, alphas\n",
    "\n",
    "def stes_se(params, returns, is_index=500):\n",
    "    assert len(params) == 2\n",
    "    n = len(returns)\n",
    "    sigma2s = np.zeros(n)\n",
    "    sigma2s[:is_index] = np.mean(returns[:is_index]**2)\n",
    "    alphas = np.zeros(n)\n",
    "    for t in range(is_index, n):\n",
    "        features = np.array([1, returns[t-1]**2])\n",
    "        alpha = expit(params @ features)\n",
    "        alphas[t-1] = alpha\n",
    "        sigma2s[t] = (1 - alphas[t-1]) * sigma2s[t-1] + alphas[t-1] * returns[t-1]**2\n",
    "\n",
    "    return sigma2s, alphas\n",
    "\n",
    "def stes_aese(params, returns, is_index=500):\n",
    "    assert len(params) == 3\n",
    "    n = len(returns)\n",
    "    sigma2s = np.zeros(n)\n",
    "    sigma2s[:is_index] = np.mean(returns[:is_index]**2)\n",
    "    alphas = np.zeros(n)\n",
    "    for t in range(is_index, n):\n",
    "        features = np.array([1, abs(returns[t-1]), returns[t-1]**2])\n",
    "        alpha = expit(params @ features)\n",
    "        alphas[t-1] = alpha\n",
    "        sigma2s[t] = (1 - alphas[t-1]) * sigma2s[t-1] + alphas[t-1] * returns[t-1]**2\n",
    "\n",
    "    return sigma2s, alphas\n",
    "\n",
    "def rmse(model, params, returns, is_index=500, os_index=2000):\n",
    "    sigma2s, alphas = model(params, returns, is_index)\n",
    "    \n",
    "    sse = (returns ** 2 - sigma2s) ** 2\n",
    "    is_mse = np.sqrt(np.mean(sse[is_index:os_index]))\n",
    "    os_mse = np.sqrt(np.mean(sse[os_index:]))\n",
    "    return is_mse, os_mse, sigma2s, alphas\n",
    "\n",
    "def llh(model, params, returns, is_index=500, os_index=2000):\n",
    "    sigma2s, alphas = model(params, returns, is_index)\n",
    "   \n",
    "    llh = -np.log(sigma2s) - (returns ** 2 / sigma2s)\n",
    "    is_llh = -np.sum(llh[is_index:os_index])\n",
    "    os_llh = -np.sum(llh[os_index:])\n",
    "    return is_llh, os_llh, sigma2s, alphas\n",
    "\n"
   ]
  },
  {
   "cell_type": "code",
   "execution_count": 108,
   "metadata": {},
   "outputs": [],
   "source": [
    "def fit_model(model, metrics, param_dim, returns, is_index=500, os_index=2000):\n",
    "    initial_params = np.random.normal(0, 1, size=param_dim)\n",
    "    obj_func_inner = lambda *args, **kwargs: itemgetter(0)(partial(metrics, model)(*args, **kwargs))\n",
    "    result = minimize(obj_func_inner, initial_params, args=(returns, is_index, os_index), method = 'SLSQP')\n",
    "    \n",
    "    if not result.success:\n",
    "        raise ValueError(\"Optimization failed: \" + result.message)\n",
    "    \n",
    "    is_mse, os_mse, sigmas, alphas = rmse(model,result.x, returns, is_index, os_index)\n",
    "    is_llh, os_llh, _, _ = llh(model, result.x, returns, is_index, os_index)\n",
    "    return result.x, os_mse, os_llh, sigmas, alphas, is_mse, is_llh\n",
    "\n",
    "fit_es_rmse = partial(fit_model, model=es, metrics=rmse, param_dim=1)\n",
    "fit_es_llh = partial(fit_model, model=es, metrics=llh, param_dim=1)\n",
    "fit_stes_ae_rmse = partial(fit_model, model=stes_ae, metrics=rmse, param_dim=2)\n",
    "fit_stes_ae_llh = partial(fit_model, model=stes_ae, metrics=llh, param_dim=2)\n",
    "fit_stes_se_rmse = partial(fit_model, model=stes_se, metrics=rmse, param_dim=2)\n",
    "fit_stes_se_llh = partial(fit_model, model=stes_se, metrics=llh, param_dim=2)\n",
    "fit_stes_aese_rmse = partial(fit_model, model=stes_aese, metrics=rmse, param_dim=3)\n",
    "fit_stes_aese_llh = partial(fit_model, model=stes_aese, metrics=llh, param_dim=3)"
   ]
  },
  {
   "cell_type": "code",
   "execution_count": 153,
   "metadata": {},
   "outputs": [],
   "source": [
    "simulated_garch_return, simulated_garch_var = simulate_contaminated_garch(n=2500, mu=0, omega=0.02, alpha=0.11, beta=0.87, eta=4)"
   ]
  },
  {
   "cell_type": "code",
   "execution_count": 156,
   "metadata": {},
   "outputs": [],
   "source": [
    "stes_os_rmses = []\n",
    "stes_os_llhs = []\n",
    "es_os_rmses = []\n",
    "es_os_llhs = []\n",
    "for _ in range(100):\n",
    "    simulated_garch_return, simulated_garch_var = simulate_contaminated_garch(n=2500, mu=0, omega=0.02, alpha=0.11, beta=0.87, eta=4)\n",
    "    _, os_stes_llh_rmse, os_stes_llh_llh, stes_llh_sigmas, stes_llh_alphas, is_stes_llh_rmse, is_stes_llh_llh = fit_stes_ae_rmse(returns=simulated_garch_return)\n",
    "    _, os_es_llh_rmse, os_es_llh_llh, es_llh_sigmas, es_llh_alphas, is_es_llh_rmse, is_es_llh_llh = fit_es_rmse(returns=simulated_garch_return)\n",
    "    stes_os_rmses.append(os_stes_llh_rmse)\n",
    "    stes_os_llhs.append(os_stes_llh_llh)\n",
    "    es_os_rmses.append(os_es_llh_rmse)\n",
    "    es_os_llhs.append(os_es_llh_llh)\n",
    "\n",
    "stes_os_rmses = np.array(stes_os_rmses)\n",
    "stes_os_llhs = np.array(stes_os_llhs)\n",
    "es_os_rmses = np.array(es_os_rmses)\n",
    "es_os_llhs = np.array(es_os_llhs)\n"
   ]
  },
  {
   "cell_type": "code",
   "execution_count": 158,
   "metadata": {},
   "outputs": [
    {
     "data": {
      "image/png": "[encoded data removed]",
      "text/plain": [
       "<Figure size 640x480 with 1 Axes>"
      ]
     },
     "metadata": {},
     "output_type": "display_data"
    },
    {
     "data": {
      "image/png": "[encoded data removed]",
      "text/plain": [
       "<Figure size 640x480 with 1 Axes>"
      ]
     },
     "metadata": {},
     "output_type": "display_data"
    }
   ],
   "source": [
    "plt.hist(stes_os_rmses, bins=50, alpha=0.5, label='STES')\n",
    "plt.hist(es_os_rmses, bins=50, alpha=0.5, label='EWMA')\n",
    "plt.legend()\n",
    "plt.show()\n",
    "\n",
    "plt.hist(stes_os_llhs, bins=50, alpha=0.5, label='STES')\n",
    "plt.hist(es_os_llhs, bins=50, alpha=0.5, label='EWMA')\n",
    "plt.legend()\n",
    "plt.show()\n"
   ]
  },
  {
   "cell_type": "code",
   "execution_count": null,
   "metadata": {},
   "outputs": [],
   "source": []
  },
  {
   "cell_type": "code",
   "execution_count": 177,
   "metadata": {},
   "outputs": [
    {
     "data": {
      "text/plain": [
       "DatetimeIndex(['2015-11-27', '2015-11-30', '2015-12-01', '2015-12-02',\n",
       "               '2015-12-03', '2015-12-04', '2015-12-07', '2015-12-08',\n",
       "               '2015-12-09', '2015-12-10',\n",
       "               ...\n",
       "               '2023-12-15', '2023-12-18', '2023-12-19', '2023-12-20',\n",
       "               '2023-12-21', '2023-12-22', '2023-12-26', '2023-12-27',\n",
       "               '2023-12-28', '2023-12-29'],\n",
       "              dtype='datetime64[ns]', name='Date', length=2036, freq=None)"
      ]
     },
     "execution_count": 177,
     "metadata": {},
     "output_type": "execute_result"
    }
   ],
   "source": [
    "sp500_returns.dropna().index[4000:]"
   ]
  },
  {
   "cell_type": "code",
   "execution_count": 160,
   "metadata": {},
   "outputs": [
    {
     "name": "stdout",
     "output_type": "stream",
     "text": [
      "\n",
      "      STES AE&SE Parameter Estimated on SPY Returns using MLE: [  -2.65905204   17.51052585 -212.4608808 ], \n",
      "      Out-of-Sample Mean Squared Error = 0.000469, \n",
      "      Out-of-Sample Log-Likelihood = -17091.456300, \n",
      "      In-Sample Mean Squared Error = 0.000517,\n",
      "      In-Sample Log-Likelihood = -28926.862187,\n",
      "\n"
     ]
    }
   ],
   "source": [
    "(\n",
    "    stes_params_llh_fitted_spy, os_stes_llh_mse_spy, \n",
    "    os_stes_llh_llh_spy, llh_sigmas_spy, \n",
    "    llh_alphas_spy, is_stes_llh_mse_spy, \n",
    "    is_stes_llh_llh_spy\n",
    ") = fit_stes_aese_llh(returns=sp500_returns.dropna().to_numpy(), is_index=500, os_index=4000)\n",
    "\n",
    "print(f\"\"\"\n",
    "      STES AE&SE Parameter Estimated on SPY Returns using MLE: {stes_params_llh_fitted_spy}, \n",
    "      Out-of-Sample Mean Squared Error = {os_stes_llh_mse_spy:.6f}, \n",
    "      Out-of-Sample Log-Likelihood = {os_stes_llh_llh_spy:.6f}, \n",
    "      In-Sample Mean Squared Error = {is_stes_llh_mse_spy:.6f},\n",
    "      In-Sample Log-Likelihood = {is_stes_llh_llh_spy:.6f},\n",
    "\"\"\")"
   ]
  },
  {
   "cell_type": "code",
   "execution_count": 161,
   "metadata": {},
   "outputs": [
    {
     "name": "stdout",
     "output_type": "stream",
     "text": [
      "\n",
      "      ES Parameter Estimated on SPY Returns using MLE: [-1.20329474], \n",
      "      Out-of-Sample Mean Squared Error = 0.000445, \n",
      "      Out-of-Sample Log-Likelihood = -16882.655789, \n",
      "      In-Sample Mean Squared Error = 0.000529,\n",
      "      In-Sample Log-Likelihood = -28450.456228,\n",
      "\n"
     ]
    }
   ],
   "source": [
    "(\n",
    "    es_params_llh_fitted_spy, os_es_llh_mse_spy, \n",
    "    os_es_llh_llh_spy, es_llh_sigmas_spy, \n",
    "    es_llh_alphas_spy, is_es_llh_mse_spy, \n",
    "    is_es_llh_llh_spy\n",
    ") = fit_es_rmse(returns=sp500_returns.dropna().to_numpy(), is_index=500, os_index=4000)\n",
    "\n",
    "print(f\"\"\"\n",
    "      ES Parameter Estimated on SPY Returns using MLE: {es_params_llh_fitted_spy}, \n",
    "      Out-of-Sample Mean Squared Error = {os_es_llh_mse_spy:.6f}, \n",
    "      Out-of-Sample Log-Likelihood = {os_es_llh_llh_spy:.6f}, \n",
    "      In-Sample Mean Squared Error = {is_es_llh_mse_spy:.6f},\n",
    "      In-Sample Log-Likelihood = {is_es_llh_llh_spy:.6f},\n",
    "\"\"\")"
   ]
  },
  {
   "cell_type": "code",
   "execution_count": null,
   "metadata": {},
   "outputs": [],
   "source": []
  },
  {
   "cell_type": "code",
   "execution_count": null,
   "metadata": {},
   "outputs": [],
   "source": []
  }
 ],
 "metadata": {
  "kernelspec": {
   "display_name": "ml_env",
   "language": "python",
   "name": "python3"
  },
  "language_info": {
   "codemirror_mode": {
    "name": "ipython",
    "version": 3
   },
   "file_extension": ".py",
   "mimetype": "text/x-python",
   "name": "python",
   "nbconvert_exporter": "python",
   "pygments_lexer": "ipython3",
   "version": "3.11.6"
  }
 },
 "nbformat": 4,
 "nbformat_minor": 2
}
