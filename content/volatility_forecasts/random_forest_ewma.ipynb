{
 "cells": [
  {
   "cell_type": "markdown",
   "metadata": {},
   "source": [
    "# Boosted Exponential Smoothing Volatility Forecasts\n",
    "\n",
    "This notebook corresponds to the blog post [Extending Smooth Transitioning Exponential Smoothing Volatility Forecasts](https://steveya.github.io/2024/07/12/volatility-forecast-1.html). The aim is to replace the logistic function used by the STES model with a xgboost model, and evaluate their relative performance. It is a work in progress and will be updated as I wrap up my implementations."
   ]
  },
  {
   "cell_type": "code",
   "execution_count": 1,
   "metadata": {},
   "outputs": [],
   "source": [
    "import numpy as np\n",
    "import pandas as pd\n",
    "from functools import partial\n",
    "from scipy.optimize import minimize\n",
    "from scipy.special import expit\n",
    "from matplotlib import pyplot as plt\n",
    "from operator import itemgetter\n",
    "import yfinance as yf\n",
    "import xgboost as xgb\n",
    "import random"
   ]
  },
  {
   "cell_type": "code",
   "execution_count": 2,
   "metadata": {},
   "outputs": [],
   "source": [
    "def simulate_contaminated_garch(n, mu, omega, alpha, beta, eta):\n",
    "    returns = np.zeros(n)\n",
    "    sigma2s = np.zeros(n)\n",
    "    shocks = (np.random.uniform(0, 1, n) < 0.005).astype(float)\n",
    "    for t in range(1, n):\n",
    "        sigma2s[t] = omega + alpha * returns[t-1]**2 + beta * sigma2s[t-1]\n",
    "        returns[t] = np.random.normal(mu, np.sqrt(sigma2s[t])) + eta * shocks[t]\n",
    "\n",
    "    return returns, sigma2s"
   ]
  },
  {
   "cell_type": "code",
   "execution_count": 76,
   "metadata": {},
   "outputs": [],
   "source": [
    "def es(params, returns):\n",
    "    assert len(params) == 1\n",
    "    n = len(returns)\n",
    "    sigma2s = np.zeros(n)\n",
    "    alphas = expit(params[0]) * np.ones(n)\n",
    "    for t in range(1, n):\n",
    "        sigma2s[t] = (1 - alphas[t-1]) * sigma2s[t-1] + alphas[t-1] * returns[t-1]**2\n",
    "    \n",
    "    return sigma2s, alphas\n",
    "\n",
    "def stes_ae(params, returns):\n",
    "    assert len(params) == 2\n",
    "    n = len(returns)\n",
    "    sigma2s = np.zeros(n)\n",
    "    alphas = np.zeros(n)\n",
    "    for t in range(1, n):\n",
    "        features = np.array([1, abs(returns[t-1])])\n",
    "        alpha = expit(params @ features)\n",
    "        alphas[t-1] = alpha\n",
    "        sigma2s[t] = (1 - alphas[t-1]) * sigma2s[t-1] + alphas[t-1] * returns[t-1]**2\n",
    "\n",
    "    return sigma2s, alphas\n",
    "\n",
    "def stes_se(params, returns):\n",
    "    assert len(params) == 2\n",
    "    n = len(returns)\n",
    "    sigma2s = np.zeros(n)\n",
    "    alphas = np.zeros(n)\n",
    "    for t in range(1, n):\n",
    "        features = np.array([1, returns[t-1]**2])\n",
    "        alpha = expit(params @ features)\n",
    "        alphas[t-1] = alpha\n",
    "        sigma2s[t] = (1 - alphas[t-1]) * sigma2s[t-1] + alphas[t-1] * returns[t-1]**2\n",
    "\n",
    "    return sigma2s, alphas\n",
    "\n",
    "def stes_aese(params, returns):\n",
    "    assert len(params) == 3\n",
    "    n = len(returns)\n",
    "    sigma2s = np.zeros(n)\n",
    "    alphas = np.zeros(n)\n",
    "    for t in range(1, n):\n",
    "        features = np.array([1, abs(returns[t-1]), returns[t-1]**2])\n",
    "        alpha = expit(params @ features)\n",
    "        alphas[t-1] = alpha\n",
    "        sigma2s[t] = (1 - alphas[t-1]) * sigma2s[t-1] + alphas[t-1] * returns[t-1]**2\n",
    "\n",
    "    return sigma2s, alphas\n",
    "\n",
    "def rmse(model, params, returns, is_index=500, os_index=2000):\n",
    "    sigma2s, alphas = model(params, returns)\n",
    "    \n",
    "    sse = (returns ** 2 - sigma2s) ** 2\n",
    "    is_rmse = np.sqrt(np.mean(sse[is_index:os_index]))\n",
    "    os_rmse = np.sqrt(np.mean(sse[os_index:]))\n",
    "    return is_rmse, os_rmse, sigma2s, alphas\n",
    "\n",
    "def rmse2(model, params, returns, is_index=500, os_index=2000):\n",
    "    sigma2s, alphas = model(params, returns)\n",
    "    \n",
    "    sse = (np.log(returns ** 2) - np.log(sigma2s)) ** 2\n",
    "    is_rmse = np.sqrt(np.mean(sse[is_index:os_index]))\n",
    "    os_rmse = np.sqrt(np.mean(sse[os_index:]))\n",
    "    return is_rmse, os_rmse, sigma2s, alphas\n",
    "\n",
    "def nllh(model, params, returns, is_index=500, os_index=2000):\n",
    "    sigma2s, alphas = model(params, returns)\n",
    "   \n",
    "    llh = -np.log(sigma2s[2:]) - (returns[2:] ** 2 / sigma2s[2:])\n",
    "    is_nllh = -np.sum(llh[is_index:os_index])\n",
    "    os_nllh = -np.sum(llh[os_index:])\n",
    "    return is_nllh, os_nllh, sigma2s, alphas\n",
    "\n"
   ]
  },
  {
   "cell_type": "code",
   "execution_count": 95,
   "metadata": {},
   "outputs": [
    {
     "name": "stdout",
     "output_type": "stream",
     "text": [
      "[-2.0221339  -0.08051569]\n",
      "[-2.02238798 -0.08049192]\n",
      "[-2.02241352 -0.08048953]\n",
      "[-2.02210412 -0.08051848]\n",
      "[-2.02244303 -0.08048677]\n",
      "[-2.02209052 -0.0805187 ]\n",
      "[-2.02213362 -0.08051572]\n",
      "[-2.022146   -0.08051456]\n",
      "[-2.0223468  -0.08049572]\n",
      "[-2.02212351 -0.08051664]\n"
     ]
    }
   ],
   "source": [
    "from scipy.optimize import least_squares\n",
    "def rmse_ls(params, model, returns, is_index=500, os_index=2000):\n",
    "    sigma2s, alphas = model(params, returns)\n",
    "    sse = (returns ** 2 - sigma2s)\n",
    "    residual = sse[is_index:os_index]\n",
    "    return residual\n",
    "\n",
    "np.random.seed(0)\n",
    "for _ in range(10):\n",
    "    lss = least_squares(partial(rmse_ls, model=stes_ae, returns=simulated_garch_return), x0=np.random.normal(0, 1, 2)) \n",
    "    print(lss.x)\n"
   ]
  },
  {
   "cell_type": "code",
   "execution_count": 96,
   "metadata": {},
   "outputs": [
    {
     "name": "stdout",
     "output_type": "stream",
     "text": [
      "[-2.02220599 -0.08050869]\n",
      "[-2.02220488 -0.08047502]\n",
      "[-2.02228473 -0.08049398]\n",
      "[-2.02241858 -0.08029311]\n",
      "[-2.02199511 -0.08056591]\n",
      "[61.2084316  46.39898717]\n",
      "[-2.02227685 -0.08048086]\n",
      "[-2.02257069 -0.08044655]\n",
      "[-2.02243975 -0.08042189]\n",
      "[-2.02381059 -0.08008213]\n"
     ]
    }
   ],
   "source": [
    "\n",
    "np.random.seed(0)\n",
    "for _ in range(10):\n",
    "    p, os_stes_ae_rmse, os_stes_ae_llh, _, _, is_stes_ae_rmse, _ = fit_stes_ae_rmse(returns=simulated_garch_return)\n",
    "    print(p)"
   ]
  },
  {
   "cell_type": "code",
   "execution_count": 92,
   "metadata": {},
   "outputs": [
    {
     "data": {
      "text/plain": [
       "(3.0793895620521314,\n",
       " 3.856693135509869,\n",
       " array([0.        , 0.        , 0.0099294 , ..., 0.31212147, 0.34332461,\n",
       "        0.3848527 ]),\n",
       " array([0.23080602, 0.16836265, 0.15748929, ..., 0.005321  , 0.01085679,\n",
       "        0.        ]))"
      ]
     },
     "execution_count": 92,
     "metadata": {},
     "output_type": "execute_result"
    }
   ],
   "source": [
    "rmse(stes_ae, lss.x, simulated_garch_return, 500, 2000)"
   ]
  },
  {
   "cell_type": "code",
   "execution_count": 108,
   "metadata": {},
   "outputs": [],
   "source": [
    "def fit_model_old(model, metrics, param_dim, returns, is_index=500, os_index=2000):\n",
    "    initial_params = np.random.normal(0, 1, size=param_dim)\n",
    "    obj_func_inner = lambda *args, **kwargs: itemgetter(0)(partial(metrics, model)(*args, **kwargs))\n",
    "    result = minimize(obj_func_inner, initial_params, args=(returns, is_index, os_index), method = 'SLSQP')\n",
    "    \n",
    "    if not result.success:\n",
    "        raise ValueError(\"Optimization failed: \" + result.message)\n",
    "    \n",
    "    is_mse, os_mse, sigmas, alphas = rmse(model,result.x, returns, is_index, os_index)\n",
    "    is_llh, os_llh, _, _ = nllh(model, result.x, returns, is_index, os_index)\n",
    "    return (result.x, os_mse, os_llh, sigmas, alphas, is_mse, is_llh)\n",
    "\n",
    "def fit_model(model, metrics, param_dim, returns, is_index=500, os_index=2000):\n",
    "    initial_params = np.random.normal(0, 1, size=param_dim)\n",
    "    obj_func_inner = partial(rmse_ls, model=model, returns=returns, is_index=is_index, os_index=os_index)\n",
    "    result = least_squares(obj_func_inner, initial_params)\n",
    "    \n",
    "    if not result.success:\n",
    "        raise ValueError(\"Optimization failed: \" + result.message)\n",
    "    \n",
    "    is_mse, os_mse, sigmas, alphas = rmse(model,result.x, returns, is_index, os_index)\n",
    "    is_llh, os_llh, _, _ = nllh(model, result.x, returns, is_index, os_index)\n",
    "    return (result.x, os_mse, os_llh, sigmas, alphas, is_mse, is_llh)\n",
    "\n",
    "\n",
    "fit_es_rmse_old = partial(fit_model_old, model=es, metrics=rmse, param_dim=1)\n",
    "fit_stes_ae_rmse_old = partial(fit_model_old, model=stes_ae, metrics=rmse, param_dim=2)\n",
    "fit_stes_se_rmse_old = partial(fit_model_old, model=stes_se, metrics=rmse, param_dim=2)\n",
    "fit_stes_aese_rmse_old = partial(fit_model_old, model=stes_aese, metrics=rmse, param_dim=3)\n",
    "\n",
    "fit_es_rmse = partial(fit_model, model=es, metrics=rmse_ls, param_dim=1)\n",
    "fit_stes_ae_rmse = partial(fit_model, model=stes_ae, metrics=rmse_ls, param_dim=2)\n",
    "fit_stes_se_rmse = partial(fit_model, model=stes_se, metrics=rmse_ls, param_dim=2)\n",
    "fit_stes_aese_rmse = partial(fit_model, model=stes_aese, metrics=rmse_ls, param_dim=3)\n",
    "\n",
    "fit_es_llh = partial(fit_model, model=es, metrics=nllh, param_dim=1)\n",
    "fit_stes_ae_llh = partial(fit_model, model=stes_ae, metrics=nllh, param_dim=2)\n",
    "fit_stes_se_llh = partial(fit_model, model=stes_se, metrics=nllh, param_dim=2)\n",
    "fit_stes_aese_llh = partial(fit_model, model=stes_aese, metrics=nllh, param_dim=3)"
   ]
  },
  {
   "cell_type": "code",
   "execution_count": 102,
   "metadata": {},
   "outputs": [
    {
     "data": {
      "text/plain": [
       "(array([-2.27230817]),\n",
       " 3.416464296994357,\n",
       " 748.1263407613558,\n",
       " array([0.        , 0.        , 0.00551089, ..., 1.00975411, 1.49252624,\n",
       "        1.74256699]),\n",
       " array([0.0934425, 0.0934425, 0.0934425, ..., 0.0934425, 0.0934425,\n",
       "        0.0934425]),\n",
       " 2.7502018691956645,\n",
       " 1467.451103112712)"
      ]
     },
     "execution_count": 102,
     "metadata": {},
     "output_type": "execute_result"
    }
   ],
   "source": [
    "fit_es_rmse(returns=simulated_garch_return)"
   ]
  },
  {
   "cell_type": "code",
   "execution_count": 104,
   "metadata": {},
   "outputs": [
    {
     "data": {
      "text/plain": [
       "(array([-2.27133947]),\n",
       " 3.416447840401917,\n",
       " 748.1297112632379,\n",
       " array([0.        , 0.        , 0.00551573, ..., 1.00997481, 1.49315043,\n",
       "        1.74335248]),\n",
       " array([0.09352459, 0.09352459, 0.09352459, ..., 0.09352459, 0.09352459,\n",
       "        0.09352459]),\n",
       " 2.750201921015072,\n",
       " 1467.4698630692208)"
      ]
     },
     "execution_count": 104,
     "metadata": {},
     "output_type": "execute_result"
    }
   ],
   "source": [
    "fit_es_rmse_old(returns=simulated_garch_return)"
   ]
  },
  {
   "cell_type": "code",
   "execution_count": 106,
   "metadata": {},
   "outputs": [
    {
     "data": {
      "text/plain": [
       "(array([-2.06431227, -0.01514206]),\n",
       " 3.40272272619349,\n",
       " 751.7047756285671,\n",
       " array([0.        , 0.        , 0.0066363 , ..., 1.0275292 , 1.5609462 ,\n",
       "        1.83853403]),\n",
       " array([0.11261418, 0.11252496, 0.11248516, ..., 0.10360146, 0.10645917,\n",
       "        0.        ]),\n",
       " 2.741536813961203,\n",
       " 1477.8111925406965)"
      ]
     },
     "execution_count": 106,
     "metadata": {},
     "output_type": "execute_result"
    }
   ],
   "source": [
    "\n",
    "fit_stes_se_rmse(returns=simulated_garch_return)"
   ]
  },
  {
   "cell_type": "code",
   "execution_count": 107,
   "metadata": {},
   "outputs": [
    {
     "data": {
      "text/plain": [
       "(array([-2.06300134, -0.01526235]),\n",
       " 3.4027134273148003,\n",
       " 751.7456944489497,\n",
       " array([0.        , 0.        , 0.00664399, ..., 1.02757569, 1.56125953,\n",
       "        1.83901484]),\n",
       " array([0.11274525, 0.11265523, 0.11261507, ..., 0.10365422, 0.1065362 ,\n",
       "        0.        ]),\n",
       " 2.741537247820002,\n",
       " 1477.918476298767)"
      ]
     },
     "execution_count": 107,
     "metadata": {},
     "output_type": "execute_result"
    }
   ],
   "source": [
    "fit_stes_se_rmse_old(returns=simulated_garch_return)"
   ]
  },
  {
   "cell_type": "code",
   "execution_count": null,
   "metadata": {},
   "outputs": [],
   "source": []
  },
  {
   "cell_type": "markdown",
   "metadata": {},
   "source": [
    "### Test STES and ES on Simulated Contaminated GARCH Data as in Taylor (2020)"
   ]
  },
  {
   "cell_type": "code",
   "execution_count": 110,
   "metadata": {},
   "outputs": [
    {
     "data": {
      "text/plain": [
       "(1.365253202967331, 1.365823107361304, 1.3617270367547378)"
      ]
     },
     "execution_count": 110,
     "metadata": {},
     "output_type": "execute_result"
    }
   ],
   "source": [
    "np.random.seed(2)\n",
    "np.random.seed(np.random.randint(0, 1e4, size=1))\n",
    "simulated_garch_return, simulated_garch_var = simulate_contaminated_garch(n=2500, mu=0, omega=0.02, alpha=0.11, beta=0.87, eta=4)\n",
    "_, os_stes_se_rmse, os_stes_se_llh, _, _, _, _ = fit_stes_se_rmse(returns=simulated_garch_return)\n",
    "_, os_stes_ae_rmse, os_stes_ae_llh, _, _, _, _ = fit_stes_ae_rmse(returns=simulated_garch_return)\n",
    "_,      os_es_rmse,      os_es_llh, _, _, _, _ = fit_es_rmse(returns=simulated_garch_return)\n",
    "os_stes_se_rmse, os_stes_ae_rmse, os_es_rmse"
   ]
  },
  {
   "cell_type": "code",
   "execution_count": 111,
   "metadata": {},
   "outputs": [],
   "source": [
    "stes_ae_os_rmses = []\n",
    "stes_se_os_rmses = []\n",
    "es_os_rmses = []\n",
    "\n",
    "stes_ae_os_llhs = []\n",
    "stes_se_os_llhs = []\n",
    "es_os_llhs = []\n",
    "\n",
    "num_runs = 1000\n",
    "np.random.seed(0)\n",
    "rand_seeds = np.random.randint(0, 1e6, size=num_runs)\n",
    "for i in range(num_runs):\n",
    "    np.random.seed(rand_seeds[i])\n",
    "    simulated_garch_return, simulated_garch_var = simulate_contaminated_garch(n=2500, mu=0, omega=0.02, alpha=0.11, beta=0.87, eta=4)\n",
    "    _, os_stes_se_rmse, os_stes_se_llh, _, _, _, _ = fit_stes_se_rmse(returns=simulated_garch_return)\n",
    "    _, os_stes_ae_rmse, os_stes_ae_llh, _, _, _, _ = fit_stes_ae_rmse(returns=simulated_garch_return)\n",
    "    _,      os_es_rmse,      os_es_llh, _, _, _, _ = fit_es_rmse(returns=simulated_garch_return)\n",
    "    stes_ae_os_rmses.append(os_stes_ae_rmse)\n",
    "    stes_ae_os_llhs.append(os_stes_ae_llh)\n",
    "    stes_se_os_rmses.append(os_stes_se_rmse)\n",
    "    stes_se_os_llhs.append(os_stes_se_llh)\n",
    "    es_os_rmses.append(os_es_rmse)\n",
    "    es_os_llhs.append(os_es_llh)"
   ]
  },
  {
   "cell_type": "code",
   "execution_count": 112,
   "metadata": {},
   "outputs": [
    {
     "data": {
      "image/png": "[encoded data removed]",
      "text/plain": [
       "<Figure size 640x480 with 1 Axes>"
      ]
     },
     "metadata": {},
     "output_type": "display_data"
    },
    {
     "name": "stdout",
     "output_type": "stream",
     "text": [
      "The mean of RMSE of the STES-AE model is 2.8452412258472464\n",
      "The mean of RMSE of the STES-SE model is 2.8787248873818627\n",
      "The mean of RMSE of the ES model is 2.85216396301645\n"
     ]
    }
   ],
   "source": [
    "plt.hist(stes_ae_os_rmses, bins=50, alpha=0.5, label='STES-AE')\n",
    "plt.hist(stes_se_os_rmses, bins=50, alpha=0.5, label='STES-SE')\n",
    "plt.hist(es_os_rmses, bins=50, alpha=0.5, label='ES')\n",
    "\n",
    "plt.legend()\n",
    "plt.show()\n",
    "\n",
    "print(f\"The mean of RMSE of the STES-AE model is {np.mean(stes_ae_os_rmses)}\")\n",
    "print(f\"The mean of RMSE of the STES-SE model is {np.mean(stes_se_os_rmses)}\")\n",
    "print(f\"The mean of RMSE of the ES model is {np.mean(es_os_rmses)}\")\n"
   ]
  },
  {
   "cell_type": "markdown",
   "metadata": {},
   "source": [
    "### Test STES and ES on SPY Returns"
   ]
  },
  {
   "cell_type": "code",
   "execution_count": 113,
   "metadata": {},
   "outputs": [
    {
     "name": "stderr",
     "output_type": "stream",
     "text": [
      "[*********************100%%**********************]  1 of 1 completed\n"
     ]
    }
   ],
   "source": [
    "spy_adj_close = yf.download(\"SPY\", start=\"2000-01-01\", end=\"2023-12-31\")\n",
    "spy_log_returns = np.log(spy_adj_close[\"Adj Close\"]).diff().dropna()"
   ]
  },
  {
   "cell_type": "code",
   "execution_count": 114,
   "metadata": {},
   "outputs": [
    {
     "data": {
      "text/plain": [
       "(6036,)"
      ]
     },
     "execution_count": 114,
     "metadata": {},
     "output_type": "execute_result"
    }
   ],
   "source": [
    "spy_log_returns.shape"
   ]
  },
  {
   "cell_type": "code",
   "execution_count": 115,
   "metadata": {},
   "outputs": [],
   "source": [
    "np.random.seed(0)\n",
    "stes_aese_spy_res = [fit_stes_aese_rmse(returns=spy_log_returns.to_numpy(), is_index=10, os_index=4000) for _ in range(100)]\n"
   ]
  },
  {
   "cell_type": "code",
   "execution_count": 116,
   "metadata": {},
   "outputs": [],
   "source": [
    "np.random.seed(0)\n",
    "es_spy_res = [fit_es_rmse(returns=spy_log_returns.to_numpy(), is_index=10, os_index=4000) for _ in range(100)]"
   ]
  },
  {
   "cell_type": "code",
   "execution_count": 117,
   "metadata": {},
   "outputs": [
    {
     "name": "stdout",
     "output_type": "stream",
     "text": [
      "\n",
      "      STES AE&SE Parameter Estimated on SPY Returns using MLE: [  -1.96842947   11.82264256 -161.82547101],  \n",
      "      Out-of-Sample Mean Squared Error = 0.000450, \n",
      "      Out-of-Sample Neg Log-Likelihood = -17033.413333, \n",
      "      In-Sample Mean Squared Error = 0.000496,\n",
      "      In-Sample Neg Log-Likelihood = -32546.800247,\n",
      "\n"
     ]
    }
   ],
   "source": [
    "print(f\"\"\"\n",
    "      STES AE&SE Parameter Estimated on SPY Returns using MLE: {np.mean([s[0] for s in stes_aese_spy_res], axis=0)},  \n",
    "      Out-of-Sample Mean Squared Error = {np.mean([s[1] for s in stes_aese_spy_res]):.6f}, \n",
    "      Out-of-Sample Neg Log-Likelihood = {np.mean([s[2] for s in stes_aese_spy_res]):.6f}, \n",
    "      In-Sample Mean Squared Error = {np.mean([s[5] for s in stes_aese_spy_res]):.6f},\n",
    "      In-Sample Neg Log-Likelihood = {np.mean([s[6] for s in stes_aese_spy_res]):.6f},\n",
    "\"\"\")"
   ]
  },
  {
   "cell_type": "code",
   "execution_count": 118,
   "metadata": {},
   "outputs": [
    {
     "name": "stdout",
     "output_type": "stream",
     "text": [
      "\n",
      "      ES Parameter Estimated on SPY Returns using MLE: [-2.19081188],  \n",
      "      Out-of-Sample Mean Squared Error = 0.000464, \n",
      "      Out-of-Sample Neg Log-Likelihood = -17037.883808, \n",
      "      In-Sample Mean Squared Error = 0.000500,\n",
      "      In-Sample Neg Log-Likelihood = -32581.405164,\n",
      "\n"
     ]
    }
   ],
   "source": [
    "print(f\"\"\"\n",
    "      ES Parameter Estimated on SPY Returns using MLE: {np.mean([s[0] for s in es_spy_res], axis=0)},  \n",
    "      Out-of-Sample Mean Squared Error = {np.mean([s[1] for s in es_spy_res]):.6f}, \n",
    "      Out-of-Sample Neg Log-Likelihood = {np.mean([s[2] for s in es_spy_res]):.6f}, \n",
    "      In-Sample Mean Squared Error = {np.mean([s[5] for s in es_spy_res]):.6f},\n",
    "      In-Sample Neg Log-Likelihood = {np.mean([s[6] for s in es_spy_res]):.6f},\n",
    "\"\"\")"
   ]
  },
  {
   "cell_type": "markdown",
   "metadata": {},
   "source": [
    "## Building XGBoost-Based Exponential Smoothing Model"
   ]
  },
  {
   "cell_type": "code",
   "execution_count": 121,
   "metadata": {},
   "outputs": [],
   "source": [
    "class TimeSeriesDataIterator:\n",
    "    def __init__(self, data, window_size):\n",
    "        self.data = data\n",
    "        self.window_size = window_size\n",
    "        self.current_index = 0\n",
    "        \n",
    "\n",
    "    def __iter__(self):\n",
    "        return self\n",
    "\n",
    "    def __next__(self):\n",
    "        if self.current_index + self.window_size > len(self.data):\n",
    "            raise StopIteration\n",
    "        \n",
    "        start_index = self.current_index\n",
    "        end_index = self.current_index + self.window_size\n",
    "        window_data = self.data[start_index:end_index]\n",
    "        self.current_index = end_index\n",
    "        \n",
    "        indices = list(range(start_index, end_index))\n",
    "        return xgb.DMatrix(window_data.iloc[:, :-1], label=window_data.iloc[:, -1]), indices\n",
    "\n",
    "\n",
    "class XGBoostExponentialSmoothing:\n",
    "    def __init__(self, contiguous_subsample = 0.6,**xgb_params):\n",
    "        self.xgb_params = xgb_params\n",
    "        self.contiguous_subsample = contiguous_subsample\n",
    "        self.model = None\n",
    "        self.returns = None\n",
    "        \n",
    "    def rfes_variance_objective(self, preds, dtrain, indices):\n",
    "        labels = dtrain.get_label()\n",
    "        alphas = expit(preds)\n",
    "        \n",
    "        returns = self.data.iloc[indices]['returns']\n",
    "\n",
    "        grads = np.zeros_like(preds)\n",
    "        hesss = np.zeros_like(preds)\n",
    "        varhs = np.zeros_like(preds)\n",
    "        for t in range(len(returns)):\n",
    "            if t == 0:\n",
    "                varhs[t] = self.returns[0]**2\n",
    "            else:\n",
    "                varhs[t] = alphas[t] * returns[t]**2 + (1 - alphas[t]) * varhs[t-1]\n",
    "            \n",
    "            d_alpha = returns[t]**2 - varhs[t]\n",
    "            d_pred = alphas[t] * (1 - alphas[t]) * d_alpha\n",
    "            grads[t] = 2 * (varhs[t] - labels[t]) * d_pred\n",
    "            hesss[t] = 2 * d_pred**2\n",
    "\n",
    "        return grads, hesss\n",
    "\n",
    "    def contiguous_subsample(self, n_samples, subsample_size):\n",
    "        start = random.randint(0, n_samples - subsample_size)\n",
    "        return list(range(start, start + subsample_size))\n",
    "\n",
    "    def fit(self, X):\n",
    "        assert 'label' in X\n",
    "        assert 'returns' in X\n",
    "        \n",
    "        self.data = X\n",
    "\n",
    "        dtrain = xgb.DMatrix(X)\n",
    "        \n",
    "        iterator = TimeSeriesDataIterator(self.data, self.contiguous_subsample)\n",
    "\n",
    "        # Remove num_boost_round from xgb_params if it's there\n",
    "        num_boost_round = self.xgb_params.pop('num_boost_round', 100)\n",
    "        \n",
    "        self.xgb_params.update({\n",
    "            'objective': 'reg:squarederror',  # We'll override this with our custom objective\n",
    "        })\n",
    "        \n",
    "        self.model = xgb.train(\n",
    "            self.xgb_params,\n",
    "            dtrain,\n",
    "            num_boost_round=num_boost_round,\n",
    "            obj=self.rfes_variance_objective,\n",
    "            evals=[(dtrain, 'train')],\n",
    "            verbose_eval=False\n",
    "        )\n",
    "\n",
    "        self.model = None\n",
    "        for _ in range(num_boost_round):\n",
    "            for dtrain, indices in iterator:\n",
    "                if self.model is None:\n",
    "                    self.model = xgb.train(self.xgb_params, dtrain, num_boost_round=1, obj=lambda preds, dtrain: self.rfes_variance_objective(preds, dtrain, indices), evals=[(dtrain, 'train')])\n",
    "                else:\n",
    "                    self.model = xgb.train(self.xgb_params, dtrain, num_boost_round=1, obj=lambda preds, dtrain: self.rfes_variance_objective(preds, dtrain, indices), evals=[(dtrain, 'train')], xgb_model=self.model)\n",
    "        return self.model\n",
    "\n",
    "\n",
    "\n",
    "    def custom_train(params, iterator, num_boost_round, custom_obj):\n",
    "        bst = None\n",
    "        for _ in range(num_boost_round):\n",
    "            for dtrain, augment_data, indices in iterator:\n",
    "                if bst is None:\n",
    "                    bst = xgb.train(params, dtrain, num_boost_round=1, obj=lambda preds, dtrain: custom_obj(preds, dtrain, augment_data))\n",
    "                else:\n",
    "                    bst = xgb.train(params, dtrain, num_boost_round=1, obj=lambda preds, dtrain: custom_obj(preds, dtrain, augment_data), xgb_model=bst)\n",
    "        return bst\n",
    "\n",
    "    def predict(self, X):\n",
    "        dtest = xgb.DMatrix(X)\n",
    "        preds = self.model.predict(dtest)\n",
    "        return preds\n",
    "\n",
    "    def forecast_variance(self, X, returns):\n",
    "        alphas = expit(self.predict(X))\n",
    "        \n",
    "        var_pred = np.zeros_like(alphas)\n",
    "        var_pred[0] = returns[0]**2\n",
    "        \n",
    "        for t in range(1, len(returns)):\n",
    "            var_pred[t] = alphas[t-1] * returns[t-1]**2 + (1 - alphas[t-1]) * var_pred[t-1]\n",
    "        \n",
    "        return var_pred\n"
   ]
  },
  {
   "cell_type": "code",
   "execution_count": 123,
   "metadata": {},
   "outputs": [
    {
     "ename": "NameError",
     "evalue": "name 'xgb_params' is not defined",
     "output_type": "error",
     "traceback": [
      "\u001b[0;31m---------------------------------------------------------------------------\u001b[0m",
      "\u001b[0;31mNameError\u001b[0m                                 Traceback (most recent call last)",
      "Cell \u001b[0;32mIn[123], line 8\u001b[0m\n\u001b[1;32m      1\u001b[0m simulated_garch_feature_matrix \u001b[38;5;241m=\u001b[39m pd\u001b[38;5;241m.\u001b[39mDataFrame\u001b[38;5;241m.\u001b[39mfrom_dict({\n\u001b[1;32m      2\u001b[0m     \u001b[38;5;124m'\u001b[39m\u001b[38;5;124mreturns\u001b[39m\u001b[38;5;124m'\u001b[39m: simulated_garch_return[:\u001b[38;5;241m-\u001b[39m\u001b[38;5;241m1\u001b[39m],\n\u001b[1;32m      3\u001b[0m     \u001b[38;5;124m'\u001b[39m\u001b[38;5;124mabs(returns)\u001b[39m\u001b[38;5;124m'\u001b[39m: np\u001b[38;5;241m.\u001b[39mabs(simulated_garch_return[:\u001b[38;5;241m-\u001b[39m\u001b[38;5;241m1\u001b[39m]),\n\u001b[1;32m      4\u001b[0m     \u001b[38;5;124m'\u001b[39m\u001b[38;5;124mreturns^2\u001b[39m\u001b[38;5;124m'\u001b[39m: simulated_garch_return[:\u001b[38;5;241m-\u001b[39m\u001b[38;5;241m1\u001b[39m]\u001b[38;5;241m*\u001b[39m\u001b[38;5;241m*\u001b[39m\u001b[38;5;241m2\u001b[39m,\n\u001b[1;32m      5\u001b[0m     \u001b[38;5;124m'\u001b[39m\u001b[38;5;124mlabel\u001b[39m\u001b[38;5;124m'\u001b[39m: simulated_garch_return[\u001b[38;5;241m1\u001b[39m:]\u001b[38;5;241m*\u001b[39m\u001b[38;5;241m*\u001b[39m\u001b[38;5;241m2\u001b[39m,\n\u001b[1;32m      6\u001b[0m })\u001b[38;5;241m.\u001b[39mto_numpy()\n\u001b[0;32m----> 8\u001b[0m rfes_model \u001b[38;5;241m=\u001b[39m XGBoostExponentialSmoothing(\u001b[38;5;241m*\u001b[39m\u001b[38;5;241m*\u001b[39m\u001b[43mxgb_params\u001b[49m)\n\u001b[1;32m      9\u001b[0m rfes_model\u001b[38;5;241m.\u001b[39mfit(simulated_garch_feature_matrix[\u001b[38;5;241m500\u001b[39m:\u001b[38;5;241m2000\u001b[39m, :], simulated_garch_return[\u001b[38;5;241m500\u001b[39m:\u001b[38;5;241m2000\u001b[39m])\n",
      "\u001b[0;31mNameError\u001b[0m: name 'xgb_params' is not defined"
     ]
    }
   ],
   "source": [
    "simulated_garch_feature_matrix = pd.DataFrame.from_dict({\n",
    "    'returns': simulated_garch_return[:-1],\n",
    "    'abs(returns)': np.abs(simulated_garch_return[:-1]),\n",
    "    'returns^2': simulated_garch_return[:-1]**2,\n",
    "    'label': simulated_garch_return[1:]**2,\n",
    "}).to_numpy()\n",
    "\n",
    "rfes_model = XGBoostExponentialSmoothing(**xgb_params)\n",
    "rfes_model.fit(simulated_garch_feature_matrix[500:2000, :], simulated_garch_return[500:2000])\n"
   ]
  },
  {
   "cell_type": "code",
   "execution_count": 129,
   "metadata": {},
   "outputs": [
    {
     "name": "stdout",
     "output_type": "stream",
     "text": [
      "0 [0. 0. 0. ... 0. 0. 0.]\n"
     ]
    },
    {
     "ename": "TypeError",
     "evalue": "Booster.update() takes from 3 to 4 positional arguments but 5 were given",
     "output_type": "error",
     "traceback": [
      "\u001b[0;31m---------------------------------------------------------------------------\u001b[0m",
      "\u001b[0;31mTypeError\u001b[0m                                 Traceback (most recent call last)",
      "Cell \u001b[0;32mIn[129], line 22\u001b[0m\n\u001b[1;32m     15\u001b[0m simulated_garch_feature_matrix \u001b[38;5;241m=\u001b[39m pd\u001b[38;5;241m.\u001b[39mDataFrame\u001b[38;5;241m.\u001b[39mfrom_dict({\n\u001b[1;32m     16\u001b[0m     \u001b[38;5;124m'\u001b[39m\u001b[38;5;124mreturns\u001b[39m\u001b[38;5;124m'\u001b[39m: simulated_garch_return,\n\u001b[1;32m     17\u001b[0m     \u001b[38;5;124m'\u001b[39m\u001b[38;5;124mabs(returns)\u001b[39m\u001b[38;5;124m'\u001b[39m: np\u001b[38;5;241m.\u001b[39mabs(simulated_garch_return),\n\u001b[1;32m     18\u001b[0m     \u001b[38;5;124m'\u001b[39m\u001b[38;5;124mreturns^2\u001b[39m\u001b[38;5;124m'\u001b[39m: simulated_garch_return\u001b[38;5;241m*\u001b[39m\u001b[38;5;241m*\u001b[39m\u001b[38;5;241m2\u001b[39m\n\u001b[1;32m     19\u001b[0m })\u001b[38;5;241m.\u001b[39mto_numpy()\n\u001b[1;32m     21\u001b[0m rfes_model \u001b[38;5;241m=\u001b[39m XGBoostExponentialSmoothing(\u001b[38;5;241m*\u001b[39m\u001b[38;5;241m*\u001b[39mxgb_params)\n\u001b[0;32m---> 22\u001b[0m \u001b[43mrfes_model\u001b[49m\u001b[38;5;241;43m.\u001b[39;49m\u001b[43mfit\u001b[49m\u001b[43m(\u001b[49m\u001b[43msimulated_garch_feature_matrix\u001b[49m\u001b[43m[\u001b[49m\u001b[38;5;241;43m500\u001b[39;49m\u001b[43m:\u001b[49m\u001b[38;5;241;43m2000\u001b[39;49m\u001b[43m,\u001b[49m\u001b[43m \u001b[49m\u001b[43m:\u001b[49m\u001b[43m]\u001b[49m\u001b[43m,\u001b[49m\u001b[43m \u001b[49m\u001b[43msimulated_garch_return\u001b[49m\u001b[43m[\u001b[49m\u001b[38;5;241;43m500\u001b[39;49m\u001b[43m:\u001b[49m\u001b[38;5;241;43m2000\u001b[39;49m\u001b[43m]\u001b[49m\u001b[43m)\u001b[49m\n\u001b[1;32m     24\u001b[0m rfes_predicted_var_fs \u001b[38;5;241m=\u001b[39m rfes_model\u001b[38;5;241m.\u001b[39mforecast_variance(simulated_garch_feature_matrix, simulated_garch_return)\n\u001b[1;32m     26\u001b[0m os_rfes_rmse \u001b[38;5;241m=\u001b[39m np\u001b[38;5;241m.\u001b[39msqrt(np\u001b[38;5;241m.\u001b[39mmean((rfes_predicted_var_fs[\u001b[38;5;241m-\u001b[39m\u001b[38;5;241m500\u001b[39m:] \u001b[38;5;241m-\u001b[39m simulated_garch_return[\u001b[38;5;241m-\u001b[39m\u001b[38;5;241m500\u001b[39m:]\u001b[38;5;241m*\u001b[39m\u001b[38;5;241m*\u001b[39m\u001b[38;5;241m2\u001b[39m)\u001b[38;5;241m*\u001b[39m\u001b[38;5;241m*\u001b[39m\u001b[38;5;241m2\u001b[39m))\n",
      "Cell \u001b[0;32mIn[128], line 118\u001b[0m, in \u001b[0;36mXGBoostExponentialSmoothing.fit\u001b[0;34m(self, X, returns, realized_var, subsample_size, random_state, num_boost_round)\u001b[0m\n\u001b[1;32m    115\u001b[0m grad, hess \u001b[38;5;241m=\u001b[39m \u001b[38;5;28mself\u001b[39m\u001b[38;5;241m.\u001b[39mrfes_variance_objective(preds, dtrain, subsample_indices)\n\u001b[1;32m    117\u001b[0m \u001b[38;5;66;03m# Update the model\u001b[39;00m\n\u001b[0;32m--> 118\u001b[0m \u001b[38;5;28;43mself\u001b[39;49m\u001b[38;5;241;43m.\u001b[39;49m\u001b[43mmodel\u001b[49m\u001b[38;5;241;43m.\u001b[39;49m\u001b[43mupdate\u001b[49m\u001b[43m(\u001b[49m\u001b[43mdtrain\u001b[49m\u001b[43m,\u001b[49m\u001b[43m \u001b[49m\u001b[43mi\u001b[49m\u001b[43m,\u001b[49m\u001b[43m \u001b[49m\u001b[43mgrad\u001b[49m\u001b[43m,\u001b[49m\u001b[43m \u001b[49m\u001b[43mhess\u001b[49m\u001b[43m)\u001b[49m\n\u001b[1;32m    120\u001b[0m \u001b[38;5;66;03m# Evaluate (optional)\u001b[39;00m\n\u001b[1;32m    121\u001b[0m \u001b[38;5;28;01mif\u001b[39;00m i \u001b[38;5;241m%\u001b[39m \u001b[38;5;241m10\u001b[39m \u001b[38;5;241m==\u001b[39m \u001b[38;5;241m0\u001b[39m:  \u001b[38;5;66;03m# Every 10 iterations\u001b[39;00m\n",
      "\u001b[0;31mTypeError\u001b[0m: Booster.update() takes from 3 to 4 positional arguments but 5 were given"
     ]
    }
   ],
   "source": [
    "xgb_params = {\n",
    "    'max_depth': 3,\n",
    "    'learning_rate': 0.1,\n",
    "    'num_boost_round': 100,\n",
    "    'subsample': 0.8,\n",
    "    'colsample_bytree': 0.8,\n",
    "    'tree_method': 'hist'\n",
    "}\n",
    "\n",
    "rfes_os_rmses = []\n",
    "es_os_rmses = []\n",
    "\n",
    "for _ in range(10):\n",
    "    simulated_garch_return, simulated_garch_var = simulate_contaminated_garch(n=2500, mu=0, omega=0.02, alpha=0.11, beta=0.87, eta=4)\n",
    "    simulated_garch_feature_matrix = pd.DataFrame.from_dict({\n",
    "        'returns': simulated_garch_return,\n",
    "        'abs(returns)': np.abs(simulated_garch_return),\n",
    "        'returns^2': simulated_garch_return**2\n",
    "    }).to_numpy()\n",
    "    \n",
    "    rfes_model = XGBoostExponentialSmoothing(**xgb_params)\n",
    "    rfes_model.fit(simulated_garch_feature_matrix[500:2000, :], simulated_garch_return[500:2000])\n",
    "\n",
    "    rfes_predicted_var_fs = rfes_model.forecast_variance(simulated_garch_feature_matrix, simulated_garch_return)\n",
    "\n",
    "    os_rfes_rmse = np.sqrt(np.mean((rfes_predicted_var_fs[-500:] - simulated_garch_return[-500:]**2)**2))\n",
    "    _, os_es_rmse, _, _, _, _, _ = fit_es_rmse(returns=simulated_garch_return)\n",
    "\n",
    "    rfes_os_rmses.append(os_rfes_rmse)\n",
    "    es_os_rmses.append(os_es_rmse)\n"
   ]
  },
  {
   "cell_type": "code",
   "execution_count": 85,
   "metadata": {},
   "outputs": [
    {
     "data": {
      "text/plain": [
       "[2.1967439677439975,\n",
       " 4.083961575943718,\n",
       " 3.977190786992224,\n",
       " 1.343855580223196,\n",
       " 3.194381126038081,\n",
       " 2.4422362440990644,\n",
       " 1.482285080216327,\n",
       " 3.696360343865444,\n",
       " 3.4992941726343414,\n",
       " 2.561489769347956]"
      ]
     },
     "execution_count": 85,
     "metadata": {},
     "output_type": "execute_result"
    }
   ],
   "source": [
    "rfes_os_rmses"
   ]
  },
  {
   "cell_type": "code",
   "execution_count": 86,
   "metadata": {},
   "outputs": [
    {
     "data": {
      "text/plain": [
       "[2.1114076722494652,\n",
       " 3.8664190052721557,\n",
       " 3.486855326498436,\n",
       " 1.3523297754700163,\n",
       " 2.641313255369907,\n",
       " 2.306126203408118,\n",
       " 1.254548978273125,\n",
       " 3.7068204927230037,\n",
       " 3.3559386112757985,\n",
       " 2.3869755462220383]"
      ]
     },
     "execution_count": 86,
     "metadata": {},
     "output_type": "execute_result"
    }
   ],
   "source": [
    "es_os_rmses"
   ]
  },
  {
   "cell_type": "code",
   "execution_count": 103,
   "metadata": {},
   "outputs": [
    {
     "data": {
      "text/html": [
       "<div>\n",
       "<style scoped>\n",
       "    .dataframe tbody tr th:only-of-type {\n",
       "        vertical-align: middle;\n",
       "    }\n",
       "\n",
       "    .dataframe tbody tr th {\n",
       "        vertical-align: top;\n",
       "    }\n",
       "\n",
       "    .dataframe thead th {\n",
       "        text-align: right;\n",
       "    }\n",
       "</style>\n",
       "<table border=\"1\" class=\"dataframe\">\n",
       "  <thead>\n",
       "    <tr style=\"text-align: right;\">\n",
       "      <th></th>\n",
       "      <th>returns</th>\n",
       "      <th>abs(returns)</th>\n",
       "      <th>returns^2</th>\n",
       "    </tr>\n",
       "    <tr>\n",
       "      <th>Date</th>\n",
       "      <th></th>\n",
       "      <th></th>\n",
       "      <th></th>\n",
       "    </tr>\n",
       "  </thead>\n",
       "  <tbody>\n",
       "    <tr>\n",
       "      <th>2000-01-04</th>\n",
       "      <td>-0.039891</td>\n",
       "      <td>0.039891</td>\n",
       "      <td>1.591289e-03</td>\n",
       "    </tr>\n",
       "    <tr>\n",
       "      <th>2000-01-05</th>\n",
       "      <td>0.001787</td>\n",
       "      <td>0.001787</td>\n",
       "      <td>3.192087e-06</td>\n",
       "    </tr>\n",
       "    <tr>\n",
       "      <th>2000-01-06</th>\n",
       "      <td>-0.016201</td>\n",
       "      <td>0.016201</td>\n",
       "      <td>2.624878e-04</td>\n",
       "    </tr>\n",
       "    <tr>\n",
       "      <th>2000-01-07</th>\n",
       "      <td>0.056452</td>\n",
       "      <td>0.056452</td>\n",
       "      <td>3.186843e-03</td>\n",
       "    </tr>\n",
       "    <tr>\n",
       "      <th>2000-01-10</th>\n",
       "      <td>0.003425</td>\n",
       "      <td>0.003425</td>\n",
       "      <td>1.173123e-05</td>\n",
       "    </tr>\n",
       "    <tr>\n",
       "      <th>...</th>\n",
       "      <td>...</td>\n",
       "      <td>...</td>\n",
       "      <td>...</td>\n",
       "    </tr>\n",
       "    <tr>\n",
       "      <th>2023-12-22</th>\n",
       "      <td>0.002008</td>\n",
       "      <td>0.002008</td>\n",
       "      <td>4.030817e-06</td>\n",
       "    </tr>\n",
       "    <tr>\n",
       "      <th>2023-12-26</th>\n",
       "      <td>0.004214</td>\n",
       "      <td>0.004214</td>\n",
       "      <td>1.775479e-05</td>\n",
       "    </tr>\n",
       "    <tr>\n",
       "      <th>2023-12-27</th>\n",
       "      <td>0.001806</td>\n",
       "      <td>0.001806</td>\n",
       "      <td>3.263419e-06</td>\n",
       "    </tr>\n",
       "    <tr>\n",
       "      <th>2023-12-28</th>\n",
       "      <td>0.000378</td>\n",
       "      <td>0.000378</td>\n",
       "      <td>1.425868e-07</td>\n",
       "    </tr>\n",
       "    <tr>\n",
       "      <th>2023-12-29</th>\n",
       "      <td>-0.002899</td>\n",
       "      <td>0.002899</td>\n",
       "      <td>8.405209e-06</td>\n",
       "    </tr>\n",
       "  </tbody>\n",
       "</table>\n",
       "<p>6036 rows × 3 columns</p>\n",
       "</div>"
      ],
      "text/plain": [
       "             returns  abs(returns)     returns^2\n",
       "Date                                            \n",
       "2000-01-04 -0.039891      0.039891  1.591289e-03\n",
       "2000-01-05  0.001787      0.001787  3.192087e-06\n",
       "2000-01-06 -0.016201      0.016201  2.624878e-04\n",
       "2000-01-07  0.056452      0.056452  3.186843e-03\n",
       "2000-01-10  0.003425      0.003425  1.173123e-05\n",
       "...              ...           ...           ...\n",
       "2023-12-22  0.002008      0.002008  4.030817e-06\n",
       "2023-12-26  0.004214      0.004214  1.775479e-05\n",
       "2023-12-27  0.001806      0.001806  3.263419e-06\n",
       "2023-12-28  0.000378      0.000378  1.425868e-07\n",
       "2023-12-29 -0.002899      0.002899  8.405209e-06\n",
       "\n",
       "[6036 rows x 3 columns]"
      ]
     },
     "execution_count": 103,
     "metadata": {},
     "output_type": "execute_result"
    }
   ],
   "source": [
    "spy_feature_matrix"
   ]
  },
  {
   "cell_type": "code",
   "execution_count": 110,
   "metadata": {},
   "outputs": [
    {
     "name": "stderr",
     "output_type": "stream",
     "text": [
      "/var/folders/rg/8kd3fpqx30g12g_zg6kb7w0r0000gn/T/ipykernel_34222/3755127255.py:8: FutureWarning: Series.__getitem__ treating keys as positions is deprecated. In a future version, integer keys will always be treated as labels (consistent with DataFrame behavior). To access a value by position, use `ser.iloc[pos]`\n",
      "  sigma2s[t] = (1 - alphas[t-1]) * sigma2s[t-1] + alphas[t-1] * returns[t-1]**2\n"
     ]
    }
   ],
   "source": [
    "xgb_params = {\n",
    "    'max_depth': 3,\n",
    "    'learning_rate': 0.1,\n",
    "    'num_boost_round': 100,\n",
    "    'subsample': 0.8,\n",
    "    'colsample_bytree': 0.8,\n",
    "    'tree_method': 'hist'\n",
    "}\n",
    "\n",
    "rfes_spy_os_rmses = []\n",
    "es_spy_os_rmses = []\n",
    "\n",
    "spy_feature_matrix = pd.DataFrame.from_dict({\n",
    "    'returns': spy_log_returns,\n",
    "    'abs(returns)': np.abs(spy_log_returns),\n",
    "    'returns^2': spy_log_returns**2\n",
    "})\n",
    "for _ in range(10):\n",
    "    rfes_spy_model = XGBoostExponentialSmoothing(**xgb_params)\n",
    "    rfes_spy_model.fit(spy_feature_matrix.iloc[:3000,:].to_numpy(), spy_log_returns[:3000].to_numpy())\n",
    "\n",
    "    rfes_predicted_spy_var_fs = rfes_spy_model.forecast_variance(spy_feature_matrix.to_numpy(), spy_log_returns.to_numpy())\n",
    "\n",
    "    os_rfes_spy_rmse = np.sqrt(np.mean((rfes_predicted_spy_var_fs[3000:] - spy_log_returns[3000:].to_numpy()**2)**2))\n",
    "    _, os_es_spy_rmse, _, _, _, _, _ = fit_es_rmse(returns=spy_log_returns, is_index=0, os_index=3000)\n",
    "\n",
    "    rfes_spy_os_rmses.append(os_rfes_spy_rmse)\n",
    "    es_spy_os_rmses.append(os_es_spy_rmse)\n"
   ]
  },
  {
   "cell_type": "code",
   "execution_count": 111,
   "metadata": {},
   "outputs": [
    {
     "data": {
      "text/plain": [
       "([0.0004709580368269481,\n",
       "  0.0004709580368269481,\n",
       "  0.0004709580368269481,\n",
       "  0.0004709580368269481,\n",
       "  0.0004709580368269481,\n",
       "  0.0004709580368269481,\n",
       "  0.0004709580368269481,\n",
       "  0.0004709580368269481,\n",
       "  0.0004709580368269481,\n",
       "  0.0004709580368269481],\n",
       " [0.0004970372970689315,\n",
       "  0.00047754965159836865,\n",
       "  0.0004436192778102199,\n",
       "  0.00046522509899032347,\n",
       "  0.00045956441904994766,\n",
       "  0.00044527986166702395,\n",
       "  0.00045161747828409134,\n",
       "  0.0004497941587374528,\n",
       "  0.0004436180529244832,\n",
       "  0.0004437230613194157])"
      ]
     },
     "execution_count": 111,
     "metadata": {},
     "output_type": "execute_result"
    }
   ],
   "source": [
    "rfes_spy_os_rmses, es_spy_os_rmses"
   ]
  },
  {
   "cell_type": "code",
   "execution_count": null,
   "metadata": {},
   "outputs": [],
   "source": []
  },
  {
   "cell_type": "code",
   "execution_count": 76,
   "metadata": {},
   "outputs": [
    {
     "data": {
      "text/plain": [
       "[<matplotlib.lines.Line2D at 0x15bf8aa10>]"
      ]
     },
     "execution_count": 76,
     "metadata": {},
     "output_type": "execute_result"
    },
    {
     "data": {
      "image/png": "[encoded data removed]",
      "text/plain": [
       "<Figure size 640x480 with 1 Axes>"
      ]
     },
     "metadata": {},
     "output_type": "display_data"
    }
   ],
   "source": [
    "plt.plot(simulated_garch_return**2)\n",
    "plt.plot(rfes_predicted_var_fs)\n"
   ]
  },
  {
   "cell_type": "code",
   "execution_count": 75,
   "metadata": {},
   "outputs": [
    {
     "data": {
      "text/plain": [
       "[<matplotlib.lines.Line2D at 0x15bd2e8f0>]"
      ]
     },
     "execution_count": 75,
     "metadata": {},
     "output_type": "execute_result"
    },
    {
     "data": {
      "image/png": "[encoded data removed]",
      "text/plain": [
       "<Figure size 640x480 with 1 Axes>"
      ]
     },
     "metadata": {},
     "output_type": "display_data"
    }
   ],
   "source": [
    "plt.plot(simulated_garch_return[500:]**2)\n",
    "plt.plot(fit_es_rmse(returns=simulated_garch_return)[3][500:])\n"
   ]
  },
  {
   "cell_type": "code",
   "execution_count": null,
   "metadata": {},
   "outputs": [],
   "source": []
  },
  {
   "cell_type": "code",
   "execution_count": null,
   "metadata": {},
   "outputs": [],
   "source": [
    "rfes_os_rmses = []\n",
    "es_os_rmses = []\n",
    "for _ in range(500):\n",
    "    simulated_garch_return, simulated_garch_var = simulate_contaminated_garch(n=2500, mu=0, omega=0.02, alpha=0.11, beta=0.87, eta=4)\n",
    "    _,      os_es_rmse,      os_es_llh, _, _, _, _ = fit_es_rmse(returns=simulated_garch_return)\n",
    "    rfes_os_rmses.append(os_stes_ae_rmse)\n",
    "    rfes_os_llhs.append(os_stes_ae_llh)\n",
    "    es_os_rmses.append(os_es_rmse)\n",
    "    es_os_llhs.append(os_es_llh)"
   ]
  },
  {
   "cell_type": "code",
   "execution_count": null,
   "metadata": {},
   "outputs": [],
   "source": []
  },
  {
   "cell_type": "code",
   "execution_count": 59,
   "metadata": {},
   "outputs": [
    {
     "ename": "NameError",
     "evalue": "name 'X' is not defined",
     "output_type": "error",
     "traceback": [
      "\u001b[0;31m---------------------------------------------------------------------------\u001b[0m",
      "\u001b[0;31mNameError\u001b[0m                                 Traceback (most recent call last)",
      "Cell \u001b[0;32mIn[59], line 11\u001b[0m\n\u001b[1;32m      2\u001b[0m xgb_params \u001b[38;5;241m=\u001b[39m {\n\u001b[1;32m      3\u001b[0m     \u001b[38;5;124m'\u001b[39m\u001b[38;5;124mmax_depth\u001b[39m\u001b[38;5;124m'\u001b[39m: \u001b[38;5;241m3\u001b[39m,\n\u001b[1;32m      4\u001b[0m     \u001b[38;5;124m'\u001b[39m\u001b[38;5;124mlearning_rate\u001b[39m\u001b[38;5;124m'\u001b[39m: \u001b[38;5;241m0.1\u001b[39m,\n\u001b[0;32m   (...)\u001b[0m\n\u001b[1;32m      8\u001b[0m     \u001b[38;5;124m'\u001b[39m\u001b[38;5;124mtree_method\u001b[39m\u001b[38;5;124m'\u001b[39m: \u001b[38;5;124m'\u001b[39m\u001b[38;5;124mhist\u001b[39m\u001b[38;5;124m'\u001b[39m\n\u001b[1;32m      9\u001b[0m }\n\u001b[1;32m     10\u001b[0m model \u001b[38;5;241m=\u001b[39m CustomXGBoostSTES(\u001b[38;5;241m*\u001b[39m\u001b[38;5;241m*\u001b[39mxgb_params)\n\u001b[0;32m---> 11\u001b[0m model\u001b[38;5;241m.\u001b[39mfit(\u001b[43mX\u001b[49m, simulated_garch_return)\n",
      "\u001b[0;31mNameError\u001b[0m: name 'X' is not defined"
     ]
    }
   ],
   "source": [
    "\n",
    "# Usage\n",
    "xgb_params = {\n",
    "    'max_depth': 3,\n",
    "    'learning_rate': 0.1,\n",
    "    'num_boost_round': 100,\n",
    "    'subsample': 0.8,\n",
    "    'colsample_bytree': 0.8,\n",
    "    'tree_method': 'hist'\n",
    "}\n",
    "model = XGBoostExponentialSmoothing(**xgb_params)\n",
    "model.fit(X, simulated_garch_return)"
   ]
  },
  {
   "cell_type": "code",
   "execution_count": null,
   "metadata": {},
   "outputs": [],
   "source": [
    "\n",
    "predicted_alphas = model.predict(X_new)\n",
    "predicted_var = model.forecast_variance(X_new, returns_new)"
   ]
  }
 ],
 "metadata": {
  "kernelspec": {
   "display_name": "ml_env",
   "language": "python",
   "name": "python3"
  },
  "language_info": {
   "codemirror_mode": {
    "name": "ipython",
    "version": 3
   },
   "file_extension": ".py",
   "mimetype": "text/x-python",
   "name": "python",
   "nbconvert_exporter": "python",
   "pygments_lexer": "ipython3",
   "version": "3.11.6"
  }
 },
 "nbformat": 4,
 "nbformat_minor": 2
}
